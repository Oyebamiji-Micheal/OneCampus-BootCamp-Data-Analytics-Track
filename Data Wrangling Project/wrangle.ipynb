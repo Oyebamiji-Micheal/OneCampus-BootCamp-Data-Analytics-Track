{
 "cells": [
  {
   "cell_type": "markdown",
   "id": "1ed5ef39",
   "metadata": {},
   "source": [
    "# OneCampus Data Wrangling Academy Project"
   ]
  },
  {
   "cell_type": "markdown",
   "id": "bec32764",
   "metadata": {},
   "source": [
    "## Muskets Football Team Dataset"
   ]
  },
  {
   "cell_type": "code",
   "execution_count": 1,
   "id": "898410d9",
   "metadata": {},
   "outputs": [],
   "source": [
    "import os"
   ]
  },
  {
   "cell_type": "code",
   "execution_count": 2,
   "id": "9e0eb5c6",
   "metadata": {},
   "outputs": [],
   "source": [
    "import numpy as np\n",
    "import pandas as pd\n",
    "import warnings\n",
    "\n",
    "warnings.filterwarnings('ignore')"
   ]
  },
  {
   "cell_type": "code",
   "execution_count": 3,
   "id": "dd9b5b4a",
   "metadata": {},
   "outputs": [
    {
     "data": {
      "text/plain": [
       "['.ipynb_checkpoints', 'Muskets_teamData_V2.csv', 'wrangle.ipynb']"
      ]
     },
     "execution_count": 3,
     "metadata": {},
     "output_type": "execute_result"
    }
   ],
   "source": [
    "os.listdir()"
   ]
  },
  {
   "cell_type": "code",
   "execution_count": 4,
   "id": "57c10449",
   "metadata": {},
   "outputs": [],
   "source": [
    "df = pd.read_csv('Muskets_teamData_V2.csv')"
   ]
  },
  {
   "cell_type": "code",
   "execution_count": 5,
   "id": "51522b01",
   "metadata": {},
   "outputs": [
    {
     "data": {
      "text/html": [
       "<div>\n",
       "<style scoped>\n",
       "    .dataframe tbody tr th:only-of-type {\n",
       "        vertical-align: middle;\n",
       "    }\n",
       "\n",
       "    .dataframe tbody tr th {\n",
       "        vertical-align: top;\n",
       "    }\n",
       "\n",
       "    .dataframe thead th {\n",
       "        text-align: right;\n",
       "    }\n",
       "</style>\n",
       "<table border=\"1\" class=\"dataframe\">\n",
       "  <thead>\n",
       "    <tr style=\"text-align: right;\">\n",
       "      <th></th>\n",
       "      <th>ID</th>\n",
       "      <th>Name</th>\n",
       "      <th>LongName</th>\n",
       "      <th>photoUrl</th>\n",
       "      <th>playerUrl</th>\n",
       "      <th>Nationality</th>\n",
       "      <th>Age</th>\n",
       "      <th>↓OVA</th>\n",
       "      <th>POT</th>\n",
       "      <th>Club</th>\n",
       "      <th>...</th>\n",
       "      <th>A/W</th>\n",
       "      <th>D/W</th>\n",
       "      <th>IR</th>\n",
       "      <th>PAC</th>\n",
       "      <th>SHO</th>\n",
       "      <th>PAS</th>\n",
       "      <th>DRI</th>\n",
       "      <th>DEF</th>\n",
       "      <th>PHY</th>\n",
       "      <th>Hits</th>\n",
       "    </tr>\n",
       "  </thead>\n",
       "  <tbody>\n",
       "    <tr>\n",
       "      <th>0</th>\n",
       "      <td>158023</td>\n",
       "      <td>L. Messi</td>\n",
       "      <td>Lionel Messi</td>\n",
       "      <td>https://cdn.sofifa.com/players/158/023/21_60.png</td>\n",
       "      <td>http://sofifa.com/player/158023/lionel-messi/2...</td>\n",
       "      <td>Argentina</td>\n",
       "      <td>33</td>\n",
       "      <td>93.0</td>\n",
       "      <td>93.0</td>\n",
       "      <td>\\n\\n\\n\\nFC Barcelona</td>\n",
       "      <td>...</td>\n",
       "      <td>Medium</td>\n",
       "      <td>Low</td>\n",
       "      <td>5 ★</td>\n",
       "      <td>85.0</td>\n",
       "      <td>92.0</td>\n",
       "      <td>91.0</td>\n",
       "      <td>95.0</td>\n",
       "      <td>38.0</td>\n",
       "      <td>65.0</td>\n",
       "      <td>771</td>\n",
       "    </tr>\n",
       "    <tr>\n",
       "      <th>1</th>\n",
       "      <td>20801</td>\n",
       "      <td>Cristiano Ronaldo</td>\n",
       "      <td>C. Ronaldo dos Santos Aveiro</td>\n",
       "      <td>https://cdn.sofifa.com/players/020/801/21_60.png</td>\n",
       "      <td>http://sofifa.com/player/20801/c-ronaldo-dos-s...</td>\n",
       "      <td>Portugal</td>\n",
       "      <td>35</td>\n",
       "      <td>92.0</td>\n",
       "      <td>92.0</td>\n",
       "      <td>\\n\\n\\n\\nJuventus</td>\n",
       "      <td>...</td>\n",
       "      <td>High</td>\n",
       "      <td>Low</td>\n",
       "      <td>5 ★</td>\n",
       "      <td>89.0</td>\n",
       "      <td>93.0</td>\n",
       "      <td>81.0</td>\n",
       "      <td>89.0</td>\n",
       "      <td>35.0</td>\n",
       "      <td>77.0</td>\n",
       "      <td>562</td>\n",
       "    </tr>\n",
       "    <tr>\n",
       "      <th>2</th>\n",
       "      <td>200389</td>\n",
       "      <td>J. Oblak</td>\n",
       "      <td>Jan Oblak</td>\n",
       "      <td>https://cdn.sofifa.com/players/200/389/21_60.png</td>\n",
       "      <td>http://sofifa.com/player/200389/jan-oblak/210006/</td>\n",
       "      <td>Slovenia</td>\n",
       "      <td>27</td>\n",
       "      <td>91.0</td>\n",
       "      <td>93.0</td>\n",
       "      <td>\\n\\n\\n\\nAtlético Madrid</td>\n",
       "      <td>...</td>\n",
       "      <td>Medium</td>\n",
       "      <td>Medium</td>\n",
       "      <td>3 ★</td>\n",
       "      <td>87.0</td>\n",
       "      <td>92.0</td>\n",
       "      <td>78.0</td>\n",
       "      <td>90.0</td>\n",
       "      <td>52.0</td>\n",
       "      <td>90.0</td>\n",
       "      <td>150</td>\n",
       "    </tr>\n",
       "    <tr>\n",
       "      <th>3</th>\n",
       "      <td>192985</td>\n",
       "      <td>K. De Bruyne</td>\n",
       "      <td>Kevin De Bruyne</td>\n",
       "      <td>https://cdn.sofifa.com/players/192/985/21_60.png</td>\n",
       "      <td>http://sofifa.com/player/192985/kevin-de-bruyn...</td>\n",
       "      <td>Belgium</td>\n",
       "      <td>29</td>\n",
       "      <td>91.0</td>\n",
       "      <td>91.0</td>\n",
       "      <td>\\n\\n\\n\\nManchester City</td>\n",
       "      <td>...</td>\n",
       "      <td>High</td>\n",
       "      <td>High</td>\n",
       "      <td>4 ★</td>\n",
       "      <td>76.0</td>\n",
       "      <td>86.0</td>\n",
       "      <td>93.0</td>\n",
       "      <td>88.0</td>\n",
       "      <td>64.0</td>\n",
       "      <td>78.0</td>\n",
       "      <td>207</td>\n",
       "    </tr>\n",
       "    <tr>\n",
       "      <th>4</th>\n",
       "      <td>190871</td>\n",
       "      <td>Neymar Jr</td>\n",
       "      <td>Neymar da Silva Santos Jr.</td>\n",
       "      <td>https://cdn.sofifa.com/players/190/871/21_60.png</td>\n",
       "      <td>http://sofifa.com/player/190871/neymar-da-silv...</td>\n",
       "      <td>Brazil</td>\n",
       "      <td>28</td>\n",
       "      <td>91.0</td>\n",
       "      <td>91.0</td>\n",
       "      <td>\\n\\n\\n\\nParis Saint-Germain</td>\n",
       "      <td>...</td>\n",
       "      <td>High</td>\n",
       "      <td>Medium</td>\n",
       "      <td>5 ★</td>\n",
       "      <td>91.0</td>\n",
       "      <td>85.0</td>\n",
       "      <td>86.0</td>\n",
       "      <td>94.0</td>\n",
       "      <td>36.0</td>\n",
       "      <td>59.0</td>\n",
       "      <td>595</td>\n",
       "    </tr>\n",
       "  </tbody>\n",
       "</table>\n",
       "<p>5 rows × 77 columns</p>\n",
       "</div>"
      ],
      "text/plain": [
       "       ID               Name                      LongName  \\\n",
       "0  158023           L. Messi                  Lionel Messi   \n",
       "1   20801  Cristiano Ronaldo  C. Ronaldo dos Santos Aveiro   \n",
       "2  200389           J. Oblak                     Jan Oblak   \n",
       "3  192985       K. De Bruyne               Kevin De Bruyne   \n",
       "4  190871          Neymar Jr    Neymar da Silva Santos Jr.   \n",
       "\n",
       "                                           photoUrl  \\\n",
       "0  https://cdn.sofifa.com/players/158/023/21_60.png   \n",
       "1  https://cdn.sofifa.com/players/020/801/21_60.png   \n",
       "2  https://cdn.sofifa.com/players/200/389/21_60.png   \n",
       "3  https://cdn.sofifa.com/players/192/985/21_60.png   \n",
       "4  https://cdn.sofifa.com/players/190/871/21_60.png   \n",
       "\n",
       "                                           playerUrl Nationality  Age  ↓OVA  \\\n",
       "0  http://sofifa.com/player/158023/lionel-messi/2...   Argentina   33  93.0   \n",
       "1  http://sofifa.com/player/20801/c-ronaldo-dos-s...    Portugal   35  92.0   \n",
       "2  http://sofifa.com/player/200389/jan-oblak/210006/    Slovenia   27  91.0   \n",
       "3  http://sofifa.com/player/192985/kevin-de-bruyn...     Belgium   29  91.0   \n",
       "4  http://sofifa.com/player/190871/neymar-da-silv...      Brazil   28  91.0   \n",
       "\n",
       "    POT                         Club  ...     A/W     D/W   IR   PAC   SHO  \\\n",
       "0  93.0         \\n\\n\\n\\nFC Barcelona  ...  Medium     Low  5 ★  85.0  92.0   \n",
       "1  92.0             \\n\\n\\n\\nJuventus  ...    High     Low  5 ★  89.0  93.0   \n",
       "2  93.0      \\n\\n\\n\\nAtlético Madrid  ...  Medium  Medium  3 ★  87.0  92.0   \n",
       "3  91.0      \\n\\n\\n\\nManchester City  ...    High    High  4 ★  76.0  86.0   \n",
       "4  91.0  \\n\\n\\n\\nParis Saint-Germain  ...    High  Medium  5 ★  91.0  85.0   \n",
       "\n",
       "    PAS   DRI   DEF   PHY Hits  \n",
       "0  91.0  95.0  38.0  65.0  771  \n",
       "1  81.0  89.0  35.0  77.0  562  \n",
       "2  78.0  90.0  52.0  90.0  150  \n",
       "3  93.0  88.0  64.0  78.0  207  \n",
       "4  86.0  94.0  36.0  59.0  595  \n",
       "\n",
       "[5 rows x 77 columns]"
      ]
     },
     "execution_count": 5,
     "metadata": {},
     "output_type": "execute_result"
    }
   ],
   "source": [
    "df.head()"
   ]
  },
  {
   "cell_type": "code",
   "execution_count": 6,
   "id": "d5c73eea",
   "metadata": {},
   "outputs": [
    {
     "data": {
      "text/plain": [
       "Index(['ID', 'Name', 'LongName', 'photoUrl', 'playerUrl', 'Nationality', 'Age',\n",
       "       '↓OVA', 'POT', 'Club', 'Contract', 'Positions', 'Height', 'Weight',\n",
       "       'Preferred Foot', 'BOV', 'Best Position', 'Joined', 'Loan Date End',\n",
       "       'Value', 'Wage', 'Release Clause', 'Attacking', 'Crossing', 'Finishing',\n",
       "       'Heading Accuracy', 'Short Passing', 'Volleys', 'Skill', 'Dribbling',\n",
       "       'Curve', 'FK Accuracy', 'Long Passing', 'Ball Control', 'Movement',\n",
       "       'Acceleration', 'Sprint Speed', 'Agility', 'Reactions', 'Balance',\n",
       "       'Power', 'Shot Power', 'Jumping', 'Stamina', 'Strength', 'Long Shots',\n",
       "       'Mentality', 'Aggression', 'Interceptions', 'Positioning', 'Vision',\n",
       "       'Penalties', 'Composure', 'Defending', 'Marking', 'Standing Tackle',\n",
       "       'Sliding Tackle', 'Goalkeeping', 'GK Diving', 'GK Handling',\n",
       "       'GK Kicking', 'GK Positioning', 'GK Reflexes', 'Total Stats',\n",
       "       'Base Stats', 'W/F', 'SM', 'A/W', 'D/W', 'IR', 'PAC', 'SHO', 'PAS',\n",
       "       'DRI', 'DEF', 'PHY', 'Hits'],\n",
       "      dtype='object')"
      ]
     },
     "execution_count": 6,
     "metadata": {},
     "output_type": "execute_result"
    }
   ],
   "source": [
    "df.columns"
   ]
  },
  {
   "cell_type": "code",
   "execution_count": 7,
   "id": "74d5f93d",
   "metadata": {},
   "outputs": [
    {
     "name": "stdout",
     "output_type": "stream",
     "text": [
      "<class 'pandas.core.frame.DataFrame'>\n",
      "RangeIndex: 19021 entries, 0 to 19020\n",
      "Data columns (total 77 columns):\n",
      " #   Column            Non-Null Count  Dtype  \n",
      "---  ------            --------------  -----  \n",
      " 0   ID                19021 non-null  int64  \n",
      " 1   Name              19021 non-null  object \n",
      " 2   LongName          19021 non-null  object \n",
      " 3   photoUrl          19021 non-null  object \n",
      " 4   playerUrl         19021 non-null  object \n",
      " 5   Nationality       19021 non-null  object \n",
      " 6   Age               19021 non-null  int64  \n",
      " 7   ↓OVA              19019 non-null  float64\n",
      " 8   POT               19020 non-null  float64\n",
      " 9   Club              19021 non-null  object \n",
      " 10  Contract          19021 non-null  object \n",
      " 11  Positions         19021 non-null  object \n",
      " 12  Height            19021 non-null  object \n",
      " 13  Weight            19020 non-null  object \n",
      " 14  Preferred Foot    19021 non-null  object \n",
      " 15  BOV               19021 non-null  int64  \n",
      " 16  Best Position     19021 non-null  object \n",
      " 17  Joined            19021 non-null  object \n",
      " 18  Loan Date End     1015 non-null   object \n",
      " 19  Value             19021 non-null  object \n",
      " 20  Wage              19021 non-null  object \n",
      " 21  Release Clause    19018 non-null  object \n",
      " 22  Attacking         19020 non-null  float64\n",
      " 23  Crossing          19020 non-null  float64\n",
      " 24  Finishing         19016 non-null  float64\n",
      " 25  Heading Accuracy  19013 non-null  float64\n",
      " 26  Short Passing     19012 non-null  object \n",
      " 27  Volleys           19014 non-null  float64\n",
      " 28  Skill             19015 non-null  float64\n",
      " 29  Dribbling         19020 non-null  object \n",
      " 30  Curve             19013 non-null  float64\n",
      " 31  FK Accuracy       19015 non-null  float64\n",
      " 32  Long Passing      19018 non-null  float64\n",
      " 33  Ball Control      19018 non-null  float64\n",
      " 34  Movement          19016 non-null  float64\n",
      " 35  Acceleration      19017 non-null  float64\n",
      " 36  Sprint Speed      19018 non-null  float64\n",
      " 37  Agility           19019 non-null  float64\n",
      " 38  Reactions         19017 non-null  float64\n",
      " 39  Balance           19014 non-null  float64\n",
      " 40  Power             19020 non-null  float64\n",
      " 41  Shot Power        19019 non-null  float64\n",
      " 42  Jumping           19017 non-null  float64\n",
      " 43  Stamina           19020 non-null  float64\n",
      " 44  Strength          19016 non-null  float64\n",
      " 45  Long Shots        19014 non-null  float64\n",
      " 46  Mentality         19015 non-null  float64\n",
      " 47  Aggression        19021 non-null  int64  \n",
      " 48  Interceptions     19017 non-null  float64\n",
      " 49  Positioning       19020 non-null  float64\n",
      " 50  Vision            19021 non-null  int64  \n",
      " 51  Penalties         19020 non-null  float64\n",
      " 52  Composure         19020 non-null  float64\n",
      " 53  Defending         19020 non-null  float64\n",
      " 54  Marking           19019 non-null  float64\n",
      " 55  Standing Tackle   19018 non-null  float64\n",
      " 56  Sliding Tackle    19020 non-null  float64\n",
      " 57  Goalkeeping       19018 non-null  float64\n",
      " 58  GK Diving         19020 non-null  float64\n",
      " 59  GK Handling       19020 non-null  float64\n",
      " 60  GK Kicking        19019 non-null  float64\n",
      " 61  GK Positioning    19019 non-null  float64\n",
      " 62  GK Reflexes       19021 non-null  int64  \n",
      " 63  Total Stats       19020 non-null  float64\n",
      " 64  Base Stats        19021 non-null  int64  \n",
      " 65  W/F               19021 non-null  object \n",
      " 66  SM                19021 non-null  object \n",
      " 67  A/W               19021 non-null  object \n",
      " 68  D/W               19020 non-null  object \n",
      " 69  IR                19021 non-null  object \n",
      " 70  PAC               19018 non-null  float64\n",
      " 71  SHO               19018 non-null  float64\n",
      " 72  PAS               19016 non-null  float64\n",
      " 73  DRI               19019 non-null  float64\n",
      " 74  DEF               19016 non-null  float64\n",
      " 75  PHY               19020 non-null  float64\n",
      " 76  Hits              16426 non-null  object \n",
      "dtypes: float64(45), int64(7), object(25)\n",
      "memory usage: 11.2+ MB\n"
     ]
    }
   ],
   "source": [
    "df.info()"
   ]
  },
  {
   "cell_type": "code",
   "execution_count": 8,
   "id": "d18ba987",
   "metadata": {},
   "outputs": [],
   "source": [
    "df_clean = df.copy()"
   ]
  },
  {
   "cell_type": "markdown",
   "id": "6c8869da",
   "metadata": {},
   "source": [
    "## Task 1"
   ]
  },
  {
   "cell_type": "markdown",
   "id": "ee940ec0",
   "metadata": {},
   "source": [
    "### 1. Extract the player names from the PlayerUrl column "
   ]
  },
  {
   "cell_type": "code",
   "execution_count": 9,
   "id": "77d79d06",
   "metadata": {},
   "outputs": [],
   "source": [
    "df_clean['Player Name'] = df_clean['playerUrl'].str.extract(r'/\\d+/([^/]+)/\\d+/')"
   ]
  },
  {
   "cell_type": "markdown",
   "id": "f55b5b74",
   "metadata": {},
   "source": [
    "The regular expression captures the player name by focusing on the part between the first and second slashes after the initial numerical part. This way, we can effectively extract the player name from the given URLs"
   ]
  },
  {
   "cell_type": "markdown",
   "id": "ab7e20bf",
   "metadata": {},
   "source": [
    "### 2. Create a new column titled Player Status from the CONTRACT column"
   ]
  },
  {
   "cell_type": "code",
   "execution_count": 10,
   "id": "43eb78e7",
   "metadata": {
    "scrolled": true
   },
   "outputs": [],
   "source": [
    "def categorize_contract_status(contract):\n",
    "    if 'Free' in contract:\n",
    "        return 'Free'\n",
    "    elif 'On Loan' in contract:\n",
    "        return 'On Loan'\n",
    "    else:\n",
    "        return 'Active'\n",
    "\n",
    "# Create the 'Player Status' column using the function\n",
    "df_clean['PlayerStatus'] = df_clean['Contract'].apply(categorize_contract_status)"
   ]
  },
  {
   "cell_type": "markdown",
   "id": "2572dc2f",
   "metadata": {},
   "source": [
    "### 3. Unpack the POSITIONS column into as many columns "
   ]
  },
  {
   "cell_type": "code",
   "execution_count": 11,
   "id": "98367fad",
   "metadata": {},
   "outputs": [],
   "source": [
    "# Create a DataFrame of dummy columns for each position\n",
    "positions_dummies = df_clean['Positions'].str.get_dummies(', ')\n",
    "\n",
    "positions_dummies = positions_dummies.astype(bool)\n",
    "\n",
    "# Combine the dummy columns with the original DataFrame\n",
    "df_clean = pd.concat([df_clean, positions_dummies], axis=1)"
   ]
  },
  {
   "cell_type": "markdown",
   "id": "f377c067",
   "metadata": {},
   "source": [
    "The dataframe `positions_dummies` contains dummy columns for each position. The `.str.get_dummies(', ')` function creates these columns based on the comma-separated positions in the `'Positions'` column. Finally, the `pd.concat()` function is used to combine the original DataFrame with the dummy columns, effectively unpacking the positions into separate Boolean columns."
   ]
  },
  {
   "cell_type": "markdown",
   "id": "7b362b63",
   "metadata": {},
   "source": [
    "### 4. Convert `Weight`, `Height`, `W/F`, `SM` and `IR` to integer column"
   ]
  },
  {
   "cell_type": "markdown",
   "id": "00615a78",
   "metadata": {},
   "source": [
    "### `Weight`"
   ]
  },
  {
   "cell_type": "code",
   "execution_count": 12,
   "id": "3e5d66f3",
   "metadata": {
    "scrolled": true
   },
   "outputs": [
    {
     "data": {
      "text/plain": [
       "array(['72kg', '83kg', '87kg', '70kg', '68kg', '80kg', '71kg', '91kg',\n",
       "       '73kg', '85kg', '92kg', '69kg', '84kg', '96kg', '81kg', '82kg',\n",
       "       '75kg', '86kg', '89kg', '74kg', '76kg', '64kg', '78kg', '90kg',\n",
       "       '66kg', '60kg', '94kg', '79kg', '67kg', '65kg', '59kg', '61kg',\n",
       "       '93kg', '88kg', '97kg', '77kg', '62kg', '63kg', '95kg', '100kg',\n",
       "       nan, '58kg', '183lbs', '179lbs', '172lbs', '196lbs', '176lbs',\n",
       "       '185lbs', '170lbs', '203lbs', '168lbs', '161lbs', '146lbs',\n",
       "       '130lbs', '190lbs', '174lbs', '148lbs', '165lbs', '159lbs',\n",
       "       '192lbs', '181lbs', '139lbs', '154lbs', '157lbs', '163lbs', '98kg',\n",
       "       '103kg', '99kg', '102kg', '56kg', '101kg', '57kg', '55kg', '104kg',\n",
       "       '107kg', '110kg', '53kg', '50kg', '54kg', '52kg'], dtype=object)"
      ]
     },
     "execution_count": 12,
     "metadata": {},
     "output_type": "execute_result"
    }
   ],
   "source": [
    "df_clean['Weight'].unique()"
   ]
  },
  {
   "cell_type": "code",
   "execution_count": 13,
   "id": "80664de1",
   "metadata": {
    "scrolled": true
   },
   "outputs": [
    {
     "data": {
      "text/plain": [
       "1"
      ]
     },
     "execution_count": 13,
     "metadata": {},
     "output_type": "execute_result"
    }
   ],
   "source": [
    "# No of rows with nan values in Weight column\n",
    "df_clean['Weight'].isna().sum()"
   ]
  },
  {
   "cell_type": "code",
   "execution_count": 14,
   "id": "1d4a2938",
   "metadata": {},
   "outputs": [
    {
     "name": "stdout",
     "output_type": "stream",
     "text": [
      "0\n"
     ]
    }
   ],
   "source": [
    "# Drop row with nan\n",
    "df_clean.dropna(subset=['Weight'], inplace=True)\n",
    "\n",
    "# Confirm row with nan has been drop\n",
    "print(df_clean['Weight'].isna().sum())"
   ]
  },
  {
   "cell_type": "code",
   "execution_count": 15,
   "id": "cdeb6483",
   "metadata": {
    "scrolled": true
   },
   "outputs": [],
   "source": [
    "# Convert pounds to kilograms and kg/lbs to integers\n",
    "def convert_to_integer(weight):\n",
    "    if 'lbs' in weight:\n",
    "        pounds = int(weight.replace('lbs', ''))\n",
    "        return int(round(pounds * 0.453592))  # Convert pounds to kg and round to the nearest integer\n",
    "    else:\n",
    "        return int(weight.replace('kg', ''))\n",
    "\n",
    "# Apply the conversion function to the 'Weight' column\n",
    "df_clean['Weight'] = df_clean['Weight'].apply(convert_to_integer)"
   ]
  },
  {
   "cell_type": "markdown",
   "id": "b7582dd4",
   "metadata": {},
   "source": [
    "The `convert_to_integer` function is used to convert the weight values to integers. It converts pounds to kilograms and rounds the result to the nearest integer. The function is then applied to the 'Weight' column using the .apply() function, and the results are stored in a new 'Weight(kg)' column as integers."
   ]
  },
  {
   "cell_type": "markdown",
   "id": "9c5de05f",
   "metadata": {},
   "source": [
    "### `Height`"
   ]
  },
  {
   "cell_type": "code",
   "execution_count": 16,
   "id": "f7d2d581",
   "metadata": {},
   "outputs": [
    {
     "data": {
      "text/plain": [
       "array(['170cm', '187cm', '188cm', '181cm', '175cm', '184cm', '191cm',\n",
       "       '178cm', '193cm', '185cm', '199cm', '173cm', '168cm', '176cm',\n",
       "       '177cm', '183cm', '180cm', '189cm', '179cm', '195cm', '172cm',\n",
       "       '182cm', '186cm', '192cm', '165cm', '194cm', '167cm', '196cm',\n",
       "       '163cm', '190cm', '174cm', '169cm', '171cm', '197cm', '200cm',\n",
       "       '166cm', '6\\'2\"', '164cm', '198cm', '6\\'3\"', '6\\'5\"', '5\\'11\"',\n",
       "       '6\\'4\"', '6\\'1\"', '6\\'0\"', '5\\'10\"', '5\\'9\"', '5\\'6\"', '5\\'7\"',\n",
       "       '5\\'4\"', '201cm', '158cm', '162cm', '161cm', '160cm', '203cm',\n",
       "       '157cm', '156cm', '202cm', '159cm', '206cm', '155cm'], dtype=object)"
      ]
     },
     "execution_count": 16,
     "metadata": {},
     "output_type": "execute_result"
    }
   ],
   "source": [
    "df_clean['Height'].unique()"
   ]
  },
  {
   "cell_type": "code",
   "execution_count": 17,
   "id": "8f56e179",
   "metadata": {},
   "outputs": [],
   "source": [
    "# Convert heights from feet and inches to centimeters\n",
    "def feet_inches_to_cm(height):\n",
    "    if 'cm' in height:\n",
    "        return int(height.replace('cm', ''))\n",
    "    else:\n",
    "        feet, inches = height.split('\\'')\n",
    "        total_inches = int(feet) * 12 + int(inches.replace('\"', ''))\n",
    "        return int(round(total_inches * 2.54))\n",
    "\n",
    "# Apply the conversion function to the 'Height' column\n",
    "df_clean['Height'] = df_clean['Height'].apply(feet_inches_to_cm)"
   ]
  },
  {
   "cell_type": "markdown",
   "id": "075b8715",
   "metadata": {},
   "source": [
    "### `W/F `"
   ]
  },
  {
   "cell_type": "code",
   "execution_count": 18,
   "id": "41fd4e0d",
   "metadata": {
    "scrolled": true
   },
   "outputs": [
    {
     "data": {
      "text/plain": [
       "array(['4 ★', '3 ★', '5 ★', '2 ★', '1 ★'], dtype=object)"
      ]
     },
     "execution_count": 18,
     "metadata": {},
     "output_type": "execute_result"
    }
   ],
   "source": [
    "df_clean['W/F'].unique()"
   ]
  },
  {
   "cell_type": "code",
   "execution_count": 19,
   "id": "7f269adb",
   "metadata": {},
   "outputs": [],
   "source": [
    "# Mapping of star ratings to numerical values\n",
    "star_mapping_1 = {'1 ★': 1, '2 ★': 2, '3 ★': 3, '4 ★': 4, '5 ★': 5}\n",
    "\n",
    "# Apply mapping defined above to the 'W/F' column\n",
    "df_clean['W/F'] = df_clean['W/F'].map(star_mapping_1)"
   ]
  },
  {
   "cell_type": "markdown",
   "id": "74a372d6",
   "metadata": {},
   "source": [
    "### `SM`"
   ]
  },
  {
   "cell_type": "code",
   "execution_count": 20,
   "id": "203e3b28",
   "metadata": {
    "scrolled": true
   },
   "outputs": [
    {
     "data": {
      "text/plain": [
       "array(['4★', '5★', '1★', '2★', '3★'], dtype=object)"
      ]
     },
     "execution_count": 20,
     "metadata": {},
     "output_type": "execute_result"
    }
   ],
   "source": [
    "df_clean['SM'].unique()"
   ]
  },
  {
   "cell_type": "code",
   "execution_count": 21,
   "id": "2ed14d64",
   "metadata": {},
   "outputs": [],
   "source": [
    "star_mapping_2= {'1★': 1, '2★': 2, '3★': 3, '4★': 4, '5★': 5}\n",
    "df_clean['SM'] = df_clean['SM'].map(star_mapping_2)"
   ]
  },
  {
   "cell_type": "markdown",
   "id": "b726652c",
   "metadata": {},
   "source": [
    "### `IR`"
   ]
  },
  {
   "cell_type": "code",
   "execution_count": 22,
   "id": "b5326b04",
   "metadata": {},
   "outputs": [
    {
     "data": {
      "text/plain": [
       "array(['5 ★', '3 ★', '4 ★', '2 ★', '1 ★'], dtype=object)"
      ]
     },
     "execution_count": 22,
     "metadata": {},
     "output_type": "execute_result"
    }
   ],
   "source": [
    "df_clean['IR'].unique()"
   ]
  },
  {
   "cell_type": "code",
   "execution_count": 23,
   "id": "f397998e",
   "metadata": {},
   "outputs": [],
   "source": [
    "df_clean['IR'] = df_clean['IR'].map(star_mapping_1)"
   ]
  },
  {
   "cell_type": "markdown",
   "id": "4977c48c",
   "metadata": {},
   "source": [
    "### 5. Convert to `Value`, `Wage` and `Release Clause` columns to float  "
   ]
  },
  {
   "cell_type": "markdown",
   "id": "d1d9e595",
   "metadata": {},
   "source": [
    "### `Value`"
   ]
  },
  {
   "cell_type": "code",
   "execution_count": 24,
   "id": "7c11cd8d",
   "metadata": {},
   "outputs": [
    {
     "data": {
      "text/plain": [
       "array(['€103.5M', '€63M', '€120M', '€129M', '€132M', '€111M', '€120.5M',\n",
       "       '€102M', '€185.5M', '€110M', '€113M', '€90.5M', '€82M', '€17.5M',\n",
       "       '€83.5M', '€33.5M', '€114.5M', '€78M', '€103M', '€109M', '€92M',\n",
       "       '€10M', '€76.5M', '€89.5M', '€87.5M', '€79.5M', '€124M', '€114M',\n",
       "       '€95M', '€92.5M', '€105.5M', '€88.5M', '€85M', '€81.5M', '€26M',\n",
       "       '€21M', '€56M', '€67.5M', '€53M', '€36.5M', '€51M', '€65.5M',\n",
       "       '€46.5M', '€61.5M', '€72.5M', '€77.5M', '€43.5M', '€32.5M', '€36M',\n",
       "       '€32M', '€54M', '€49.5M', '€57M', '€66.5M', '€74.5M', '€71.5M',\n",
       "       '€121M', '€99M', '€67M', '€86.5M', '€93.5M', '€70M', '€62M',\n",
       "       '€66M', '€58M', '€44M', '€81M', '€37M', '€14.5M', '€46M', '€47.5M',\n",
       "       '€52.5M', '€54.5M', '€34.5M', '€57.5M', '€51.5M', '€44.5M', '€55M',\n",
       "       '€48M', '€60.5M', '€63.5M', '€61M', '€29M', '€58.5M', '€55.5M',\n",
       "       '€42M', '€40.5M', '€43M', '€45.5M', '€34M', '€26.5M', '€42.5M',\n",
       "       '€35.5M', '€45M', '€41.5M', '€40M', '€11M', '€13.5M', '€29.5M',\n",
       "       '€27M', '€15.5M', '€38.5M', '€52M', '€33M', '€19M', '€73.5M',\n",
       "       '€38M', '€35M', '€47M', '€24M', '€30.5M', '€18M', '€28M', '€25.5M',\n",
       "       '€25M', '€31M', '€23.5M', '€30M', '€31.5M', '€22.5M', '€28.5M',\n",
       "       '€4M', '€12.5M', '€37.5M', '€27.5M', '€16M', '€15M', '€20.5M',\n",
       "       '€22M', '€3.4M', '€5M', '€56.5M', '€62.5M', '€0', '€39M', '€24.5M',\n",
       "       '€21.5M', '€13M', '€8M', '€20M', '€8.5M', '€2.9M', '€9M', '€4.6M',\n",
       "       '€50M', '€23M', '€18.5M', '€7M', '€19.5M', '€5.5M', '€7.5M',\n",
       "       '€3.8M', '€14M', '€10.5M', '€16.5M', '€3.6M', '€9.5M', '€39.5M',\n",
       "       '€17M', '€12M', '€11.5M', '€4.9M', '€3M', '€1.9M', '€6.5M',\n",
       "       '€1.7M', '€2.4M', '€3.1M', '€6M', '€3.7M', '€4.7M', '€4.3M',\n",
       "       '€2.1M', '€1.2M', '€1.8M', '€4.8M', '€3.2M', '€1.3M', '€825K',\n",
       "       '€2.3M', '€1.5M', '€3.9M', '€2.6M', '€3.5M', '€2.8M', '€2.7M',\n",
       "       '€4.4M', '€4.1M', '€950K', '€1.6M', '€625K', '€1.1M', '€4.5M',\n",
       "       '€4.2M', '€2.2M', '€3.3M', '€1.4M', '€2M', '€475K', '€925K',\n",
       "       '€750K', '€725K', '€2.5M', '€1M', '€350K', '€525K', '€600K',\n",
       "       '€850K', '€800K', '€550K', '€250K', '€400K', '€425K', '€575K',\n",
       "       '€210K', '€325K', '€900K', '€875K', '€650K', '€700K', '€500K',\n",
       "       '€975K', '€375K', '€775K', '€275K', '€180K', '€450K', '€675K',\n",
       "       '€150K', '€240K', '€300K', '€130K', '€220K', '€200K', '€110K',\n",
       "       '€170K', '€230K', '€90K', '€120K', '€80K', '€190K', '€140K',\n",
       "       '€160K', '€100K', '€60K', '€50K', '€70K', '€45K', '€35K', '€40K',\n",
       "       '€25K', '€20K', '€15K', '€30K', '€9K'], dtype=object)"
      ]
     },
     "execution_count": 24,
     "metadata": {},
     "output_type": "execute_result"
    }
   ],
   "source": [
    "df_clean['Value'].unique()"
   ]
  },
  {
   "cell_type": "code",
   "execution_count": 25,
   "id": "39f0bfe7",
   "metadata": {
    "scrolled": true
   },
   "outputs": [],
   "source": [
    "# Function to convert value to float\n",
    "def convert_value(value):\n",
    "    if value.endswith('M'):\n",
    "        return float(value[1:-1]) * 1e6  # Convert millions to float\n",
    "    elif value.endswith('K'):\n",
    "        return float(value[1:-1]) * 1e3  # Convert thousands to float\n",
    "    else:\n",
    "        return float(value[1:])\n",
    "    \n",
    "# Apply the conversion function to the 'Value' column\n",
    "df_clean['Value'] = df_clean['Value'].apply(convert_value)"
   ]
  },
  {
   "cell_type": "markdown",
   "id": "694917d9",
   "metadata": {},
   "source": [
    "### `Wage`"
   ]
  },
  {
   "cell_type": "code",
   "execution_count": 26,
   "id": "4b2ca11c",
   "metadata": {
    "scrolled": true
   },
   "outputs": [
    {
     "data": {
      "text/plain": [
       "array(['€560K', '€220K', '€125K', '€370K', '€270K', '€240K', '€250K',\n",
       "       '€160K', '€260K', '€210K', '€310K', '€130K', '€350K', '€300K',\n",
       "       '€190K', '€145K', '€195K', '€100K', '€140K', '€290K', '€82K',\n",
       "       '€110K', '€230K', '€155K', '€200K', '€165K', '€95K', '€170K',\n",
       "       '€105K', '€115K', '€150K', '€135K', '€55K', '€58K', '€81K', '€34K',\n",
       "       '€120K', '€59K', '€90K', '€65K', '€56K', '€71K', '€18K', '€75K',\n",
       "       '€47K', '€20K', '€84K', '€86K', '€74K', '€78K', '€27K', '€68K',\n",
       "       '€85K', '€25K', '€46K', '€83K', '€54K', '€79K', '€175K', '€43K',\n",
       "       '€49K', '€45K', '€38K', '€41K', '€39K', '€23K', '€51K', '€50K',\n",
       "       '€87K', '€30K', '€14K', '€69K', '€31K', '€64K', '€53K', '€35K',\n",
       "       '€21K', '€28K', '€17K', '€33K', '€70K', '€32K', '€89K', '€26K',\n",
       "       '€40K', '€76K', '€72K', '€48K', '€36K', '€29K', '€60K', '€16K',\n",
       "       '€37K', '€24K', '€52K', '€0', '€62K', '€73K', '€63K', '€19K',\n",
       "       '€1K', '€66K', '€80K', '€12K', '€2K', '€42K', '€13K', '€900',\n",
       "       '€57K', '€77K', '€61K', '€22K', '€67K', '€44K', '€15K', '€11K',\n",
       "       '€8K', '€850', '€10K', '€88K', '€500', '€7K', '€6K', '€9K', '€5K',\n",
       "       '€700', '€950', '€750', '€3K', '€650', '€600', '€4K', '€800',\n",
       "       '€550'], dtype=object)"
      ]
     },
     "execution_count": 26,
     "metadata": {},
     "output_type": "execute_result"
    }
   ],
   "source": [
    "df_clean['Wage'].unique()"
   ]
  },
  {
   "cell_type": "code",
   "execution_count": 27,
   "id": "4d8dbfdd",
   "metadata": {
    "scrolled": false
   },
   "outputs": [],
   "source": [
    "def convert_wage(wage):\n",
    "    if wage.endswith('K'):\n",
    "        return float(wage[1:-1]) * 1e3  # Convert thousands to float\n",
    "    else:\n",
    "        return float(wage[1:])\n",
    "    \n",
    "# Apply the conversion function to the 'Wage' column\n",
    "df_clean['Wage'] = df_clean['Wage'].apply(convert_wage)"
   ]
  },
  {
   "cell_type": "markdown",
   "id": "0feb6ca7",
   "metadata": {},
   "source": [
    "### `Release Clause`"
   ]
  },
  {
   "cell_type": "code",
   "execution_count": 28,
   "id": "28eb2853",
   "metadata": {
    "scrolled": true
   },
   "outputs": [
    {
     "data": {
      "text/plain": [
       "array(['€138.4M', '€75.9M', '€159.4M', ..., '€59K', '€35K', '€64K'],\n",
       "      dtype=object)"
      ]
     },
     "execution_count": 28,
     "metadata": {},
     "output_type": "execute_result"
    }
   ],
   "source": [
    "df_clean['Release Clause'].unique()"
   ]
  },
  {
   "cell_type": "code",
   "execution_count": 29,
   "id": "fb929202",
   "metadata": {},
   "outputs": [],
   "source": [
    "df_clean['Release Clause'] = df_clean['Release Clause'].str.replace('€', '').str.replace('M', 'e6').str.replace('K', 'e3').astype(float)"
   ]
  },
  {
   "cell_type": "markdown",
   "id": "fec01021",
   "metadata": {},
   "source": [
    "### 6. Inspect the `HITS` column and ensure its float"
   ]
  },
  {
   "cell_type": "code",
   "execution_count": 30,
   "id": "56b3b7de",
   "metadata": {},
   "outputs": [
    {
     "data": {
      "text/plain": [
       "2067     16\n",
       "11919    17\n",
       "6185     22\n",
       "11708     1\n",
       "13074    12\n",
       "Name: Hits, dtype: object"
      ]
     },
     "execution_count": 30,
     "metadata": {},
     "output_type": "execute_result"
    }
   ],
   "source": [
    "df_clean['Hits'].sample(5)"
   ]
  },
  {
   "cell_type": "code",
   "execution_count": 31,
   "id": "f832ec8f",
   "metadata": {},
   "outputs": [],
   "source": [
    "df_clean['Hits'] = df_clean['Hits'].str.replace('K', 'e3').astype(float)"
   ]
  },
  {
   "cell_type": "code",
   "execution_count": 32,
   "id": "5188affb",
   "metadata": {},
   "outputs": [
    {
     "data": {
      "text/plain": [
       "2579     8400.0\n",
       "15861    6000.0\n",
       "3791     4300.0\n",
       "68       3200.0\n",
       "690      3000.0\n",
       "          ...  \n",
       "19016       NaN\n",
       "19017       NaN\n",
       "19018       NaN\n",
       "19019       NaN\n",
       "19020       NaN\n",
       "Name: Hits, Length: 19020, dtype: float64"
      ]
     },
     "execution_count": 32,
     "metadata": {},
     "output_type": "execute_result"
    }
   ],
   "source": [
    "df_clean['Hits'].sort_values(ascending=False)"
   ]
  },
  {
   "cell_type": "markdown",
   "id": "97c629f7",
   "metadata": {},
   "source": [
    "### 7. Create 5 new categorical columns for the Height, Weight, Release Clause, Value and Wage"
   ]
  },
  {
   "cell_type": "code",
   "execution_count": 33,
   "id": "5a641d8b",
   "metadata": {
    "scrolled": false
   },
   "outputs": [
    {
     "data": {
      "text/html": [
       "<div>\n",
       "<style scoped>\n",
       "    .dataframe tbody tr th:only-of-type {\n",
       "        vertical-align: middle;\n",
       "    }\n",
       "\n",
       "    .dataframe tbody tr th {\n",
       "        vertical-align: top;\n",
       "    }\n",
       "\n",
       "    .dataframe thead th {\n",
       "        text-align: right;\n",
       "    }\n",
       "</style>\n",
       "<table border=\"1\" class=\"dataframe\">\n",
       "  <thead>\n",
       "    <tr style=\"text-align: right;\">\n",
       "      <th></th>\n",
       "      <th>Height Category</th>\n",
       "      <th>Weight Category</th>\n",
       "      <th>Release Clause Category</th>\n",
       "      <th>Value Category</th>\n",
       "      <th>Wage Category</th>\n",
       "    </tr>\n",
       "  </thead>\n",
       "  <tbody>\n",
       "    <tr>\n",
       "      <th>0</th>\n",
       "      <td>170-179 cm</td>\n",
       "      <td>70-79 kg</td>\n",
       "      <td>100-149M</td>\n",
       "      <td>100-149M</td>\n",
       "      <td>550-599K</td>\n",
       "    </tr>\n",
       "    <tr>\n",
       "      <th>1</th>\n",
       "      <td>180-189 cm</td>\n",
       "      <td>80-89 kg</td>\n",
       "      <td>50-99M</td>\n",
       "      <td>50-99M</td>\n",
       "      <td>200-249K</td>\n",
       "    </tr>\n",
       "    <tr>\n",
       "      <th>2</th>\n",
       "      <td>180-189 cm</td>\n",
       "      <td>80-89 kg</td>\n",
       "      <td>150-199M</td>\n",
       "      <td>100-149M</td>\n",
       "      <td>100-149K</td>\n",
       "    </tr>\n",
       "    <tr>\n",
       "      <th>3</th>\n",
       "      <td>180-189 cm</td>\n",
       "      <td>70-79 kg</td>\n",
       "      <td>150-199M</td>\n",
       "      <td>100-149M</td>\n",
       "      <td>350-399K</td>\n",
       "    </tr>\n",
       "    <tr>\n",
       "      <th>4</th>\n",
       "      <td>170-179 cm</td>\n",
       "      <td>60-69 kg</td>\n",
       "      <td>150-199M</td>\n",
       "      <td>100-149M</td>\n",
       "      <td>250-299K</td>\n",
       "    </tr>\n",
       "    <tr>\n",
       "      <th>...</th>\n",
       "      <td>...</td>\n",
       "      <td>...</td>\n",
       "      <td>...</td>\n",
       "      <td>...</td>\n",
       "      <td>...</td>\n",
       "    </tr>\n",
       "    <tr>\n",
       "      <th>19016</th>\n",
       "      <td>170-179 cm</td>\n",
       "      <td>60-69 kg</td>\n",
       "      <td>0-49M</td>\n",
       "      <td>0-49M</td>\n",
       "      <td>0-49K</td>\n",
       "    </tr>\n",
       "    <tr>\n",
       "      <th>19017</th>\n",
       "      <td>170-179 cm</td>\n",
       "      <td>60-69 kg</td>\n",
       "      <td>0-49M</td>\n",
       "      <td>0-49M</td>\n",
       "      <td>0-49K</td>\n",
       "    </tr>\n",
       "    <tr>\n",
       "      <th>19018</th>\n",
       "      <td>170-179 cm</td>\n",
       "      <td>70-79 kg</td>\n",
       "      <td>0-49M</td>\n",
       "      <td>0-49M</td>\n",
       "      <td>0-49K</td>\n",
       "    </tr>\n",
       "    <tr>\n",
       "      <th>19019</th>\n",
       "      <td>170-179 cm</td>\n",
       "      <td>60-69 kg</td>\n",
       "      <td>0-49M</td>\n",
       "      <td>0-49M</td>\n",
       "      <td>0-49K</td>\n",
       "    </tr>\n",
       "    <tr>\n",
       "      <th>19020</th>\n",
       "      <td>180-189 cm</td>\n",
       "      <td>70-79 kg</td>\n",
       "      <td>0-49M</td>\n",
       "      <td>0-49M</td>\n",
       "      <td>0-49K</td>\n",
       "    </tr>\n",
       "  </tbody>\n",
       "</table>\n",
       "<p>19020 rows × 5 columns</p>\n",
       "</div>"
      ],
      "text/plain": [
       "      Height Category Weight Category Release Clause Category Value Category  \\\n",
       "0          170-179 cm        70-79 kg                100-149M       100-149M   \n",
       "1          180-189 cm        80-89 kg                  50-99M         50-99M   \n",
       "2          180-189 cm        80-89 kg                150-199M       100-149M   \n",
       "3          180-189 cm        70-79 kg                150-199M       100-149M   \n",
       "4          170-179 cm        60-69 kg                150-199M       100-149M   \n",
       "...               ...             ...                     ...            ...   \n",
       "19016      170-179 cm        60-69 kg                   0-49M          0-49M   \n",
       "19017      170-179 cm        60-69 kg                   0-49M          0-49M   \n",
       "19018      170-179 cm        70-79 kg                   0-49M          0-49M   \n",
       "19019      170-179 cm        60-69 kg                   0-49M          0-49M   \n",
       "19020      180-189 cm        70-79 kg                   0-49M          0-49M   \n",
       "\n",
       "      Wage Category  \n",
       "0          550-599K  \n",
       "1          200-249K  \n",
       "2          100-149K  \n",
       "3          350-399K  \n",
       "4          250-299K  \n",
       "...             ...  \n",
       "19016         0-49K  \n",
       "19017         0-49K  \n",
       "19018         0-49K  \n",
       "19019         0-49K  \n",
       "19020         0-49K  \n",
       "\n",
       "[19020 rows x 5 columns]"
      ]
     },
     "execution_count": 33,
     "metadata": {},
     "output_type": "execute_result"
    }
   ],
   "source": [
    "# Define bucket functions\n",
    "def bucket_height(height):\n",
    "    if np.isnan(height):\n",
    "        return np.nan\n",
    "    return f'{(int(height) // 10) * 10}-{(((int(height)) // 10) * 10) + 9} cm'\n",
    "\n",
    "def bucket_weight(weight):\n",
    "    if np.isnan(weight):\n",
    "        return np.nan\n",
    "    return f'{(int(weight) // 10) * 10}-{(((int(weight)) // 10) * 10) + 9} kg'\n",
    "\n",
    "def bucket_release_clause(value):\n",
    "    if np.isnan(value):\n",
    "        return np.nan\n",
    "    return f'{int(value // 50e6) * 50}-{int((value // 50e6) * 50 + 49)}M'\n",
    "\n",
    "def bucket_value(value):\n",
    "    if np.isnan(value):\n",
    "        return np.nan\n",
    "    return f'{int(value // 50e6) * 50}-{int((value // 50e6) * 50 + 49)}M'\n",
    "\n",
    "def bucket_wage(value):\n",
    "    if np.isnan(value):\n",
    "        return np.nan\n",
    "    return f'{int(value // 50e3) * 50}-{int((value // 50e3) * 50 + 49)}K'\n",
    "\n",
    "# Apply bucketing functions to create categorical columns\n",
    "df_clean['Height Category'] = df_clean['Height'].apply(bucket_height)\n",
    "df_clean['Weight Category'] = df_clean['Weight'].apply(bucket_weight)\n",
    "df_clean['Release Clause Category'] = df_clean['Release Clause'].apply(bucket_release_clause)\n",
    "df_clean['Value Category'] = df_clean['Value'].apply(bucket_value)\n",
    "df_clean['Wage Category'] = df_clean['Wage'].apply(bucket_wage)\n",
    "\n",
    "df_clean[['Height Category', 'Weight Category', 'Release Clause Category', 'Value Category', 'Wage Category']]"
   ]
  },
  {
   "cell_type": "markdown",
   "id": "ace7565e",
   "metadata": {},
   "source": [
    "### 8. Rename Column"
   ]
  },
  {
   "cell_type": "code",
   "execution_count": 34,
   "id": "4f891444",
   "metadata": {},
   "outputs": [],
   "source": [
    "df_clean.rename(columns={'↓OVA': 'OVA'}, inplace=True)"
   ]
  },
  {
   "cell_type": "markdown",
   "id": "6d8a221c",
   "metadata": {},
   "source": [
    "### 9. Correct errorneous values in columns"
   ]
  },
  {
   "cell_type": "code",
   "execution_count": 35,
   "id": "ef32ed46",
   "metadata": {},
   "outputs": [],
   "source": [
    "df_clean['Dribbling'] = df_clean['Dribbling'].replace('70_', '70').astype(float)"
   ]
  },
  {
   "cell_type": "code",
   "execution_count": 36,
   "id": "6bba7cd7",
   "metadata": {},
   "outputs": [],
   "source": [
    "df_clean['Short Passing'] = df_clean['Short Passing'].replace('69_', '69').astype(float)"
   ]
  },
  {
   "cell_type": "markdown",
   "id": "a8ceb1a6",
   "metadata": {},
   "source": [
    "### 10. Create a new Column which represent the month the player joined"
   ]
  },
  {
   "cell_type": "code",
   "execution_count": 37,
   "id": "a18faec4",
   "metadata": {
    "scrolled": true
   },
   "outputs": [
    {
     "data": {
      "text/plain": [
       "0             July\n",
       "1             July\n",
       "2             July\n",
       "3           August\n",
       "4           August\n",
       "           ...    \n",
       "19016         July\n",
       "19017       August\n",
       "19018        March\n",
       "19019    September\n",
       "19020         July\n",
       "Name: Month Joined, Length: 19020, dtype: object"
      ]
     },
     "execution_count": 37,
     "metadata": {},
     "output_type": "execute_result"
    }
   ],
   "source": [
    "# Convert 'Joined' column to datetime format\n",
    "df_clean['Joined'] = pd.to_datetime(df_clean['Joined'], format='%d-%b-%y')\n",
    "\n",
    "# Extract month name and create a new column 'joined_month'\n",
    "df_clean['Month Joined'] = df_clean['Joined'].dt.strftime('%B')\n",
    "\n",
    "df_clean['Month Joined']"
   ]
  },
  {
   "cell_type": "markdown",
   "id": "57c1f5c7",
   "metadata": {},
   "source": [
    "Some players might perform better during the summer or winter transfer window. This might be a useful insight for the model"
   ]
  },
  {
   "cell_type": "markdown",
   "id": "8410599e",
   "metadata": {},
   "source": [
    "## Task 2 & 3"
   ]
  },
  {
   "cell_type": "code",
   "execution_count": 38,
   "id": "bfd30212",
   "metadata": {},
   "outputs": [],
   "source": [
    "from sklearn.impute import SimpleImputer\n",
    "from sklearn.preprocessing import MinMaxScaler\n",
    "from sklearn.preprocessing import OneHotEncoder"
   ]
  },
  {
   "cell_type": "code",
   "execution_count": 39,
   "id": "f3873976",
   "metadata": {},
   "outputs": [],
   "source": [
    "inputs = [\n",
    "    'Nationality', 'Age', 'OVA', 'POT', 'Height', 'Weight', 'Preferred Foot',\n",
    "    'BOV', 'Best Position', 'Month Joined', 'Value', 'Wage', 'Release Clause', \n",
    "    'Attacking', 'Crossing', 'Finishing', 'Heading Accuracy', 'Short Passing', \n",
    "    'Volleys', 'Skill', 'Dribbling', 'Curve', 'FK Accuracy', 'Long Passing', \n",
    "    'Ball Control', 'Movement', 'Acceleration', 'Sprint Speed', 'Agility', 'Reactions', \n",
    "    'Balance','Power', 'Shot Power', 'Jumping', 'Stamina', 'Strength', 'Long Shots',\n",
    "    'Mentality', 'Aggression', 'Interceptions', 'Positioning', 'Vision',\n",
    "    'Penalties', 'Composure', 'Defending', 'Marking', 'Standing Tackle',\n",
    "    'Sliding Tackle', 'Goalkeeping', 'GK Diving', 'GK Handling',\n",
    "    'GK Kicking', 'GK Positioning', 'GK Reflexes', 'Total Stats', 'Base Stats', 'Player Name'\n",
    "]"
   ]
  },
  {
   "cell_type": "code",
   "execution_count": 40,
   "id": "15c09a3b",
   "metadata": {},
   "outputs": [],
   "source": [
    "target = 'Hits'"
   ]
  },
  {
   "cell_type": "code",
   "execution_count": 41,
   "id": "ca0ab236",
   "metadata": {},
   "outputs": [],
   "source": [
    "train_df = df_clean[inputs]"
   ]
  },
  {
   "cell_type": "code",
   "execution_count": 42,
   "id": "5d79d55c",
   "metadata": {},
   "outputs": [],
   "source": [
    "test_df = df_clean[target]"
   ]
  },
  {
   "cell_type": "markdown",
   "id": "be461a21",
   "metadata": {},
   "source": [
    "### Fill missing values with mean"
   ]
  },
  {
   "cell_type": "code",
   "execution_count": 43,
   "id": "2cc110df",
   "metadata": {},
   "outputs": [],
   "source": [
    "imputer = SimpleImputer(strategy='mean')"
   ]
  },
  {
   "cell_type": "code",
   "execution_count": 44,
   "id": "d6f3e9de",
   "metadata": {},
   "outputs": [],
   "source": [
    "numeric_columns = train_df.select_dtypes(include=[np.number]).columns"
   ]
  },
  {
   "cell_type": "code",
   "execution_count": 45,
   "id": "816d0af8",
   "metadata": {},
   "outputs": [],
   "source": [
    "train_df[numeric_columns] = imputer.fit_transform(train_df[numeric_columns])"
   ]
  },
  {
   "cell_type": "markdown",
   "id": "90d55441",
   "metadata": {},
   "source": [
    "### Scale Numeric Columns"
   ]
  },
  {
   "cell_type": "code",
   "execution_count": 46,
   "id": "30b42084",
   "metadata": {},
   "outputs": [],
   "source": [
    "scaler = MinMaxScaler()"
   ]
  },
  {
   "cell_type": "code",
   "execution_count": 47,
   "id": "fa95f50d",
   "metadata": {},
   "outputs": [],
   "source": [
    "scaled_data = scaler.fit_transform(train_df[numeric_columns])\n",
    "train_df[numeric_columns] = scaled_data"
   ]
  },
  {
   "cell_type": "code",
   "execution_count": 48,
   "id": "35ddbf75",
   "metadata": {
    "scrolled": true
   },
   "outputs": [
    {
     "data": {
      "text/html": [
       "<div>\n",
       "<style scoped>\n",
       "    .dataframe tbody tr th:only-of-type {\n",
       "        vertical-align: middle;\n",
       "    }\n",
       "\n",
       "    .dataframe tbody tr th {\n",
       "        vertical-align: top;\n",
       "    }\n",
       "\n",
       "    .dataframe thead th {\n",
       "        text-align: right;\n",
       "    }\n",
       "</style>\n",
       "<table border=\"1\" class=\"dataframe\">\n",
       "  <thead>\n",
       "    <tr style=\"text-align: right;\">\n",
       "      <th></th>\n",
       "      <th>Age</th>\n",
       "      <th>OVA</th>\n",
       "      <th>POT</th>\n",
       "      <th>Height</th>\n",
       "      <th>Weight</th>\n",
       "      <th>BOV</th>\n",
       "      <th>Value</th>\n",
       "      <th>Wage</th>\n",
       "      <th>Release Clause</th>\n",
       "      <th>Attacking</th>\n",
       "      <th>...</th>\n",
       "      <th>Standing Tackle</th>\n",
       "      <th>Sliding Tackle</th>\n",
       "      <th>Goalkeeping</th>\n",
       "      <th>GK Diving</th>\n",
       "      <th>GK Handling</th>\n",
       "      <th>GK Kicking</th>\n",
       "      <th>GK Positioning</th>\n",
       "      <th>GK Reflexes</th>\n",
       "      <th>Total Stats</th>\n",
       "      <th>Base Stats</th>\n",
       "    </tr>\n",
       "  </thead>\n",
       "  <tbody>\n",
       "    <tr>\n",
       "      <th>count</th>\n",
       "      <td>19020.000000</td>\n",
       "      <td>19020.000000</td>\n",
       "      <td>19020.000000</td>\n",
       "      <td>19020.000000</td>\n",
       "      <td>19020.000000</td>\n",
       "      <td>19020.000000</td>\n",
       "      <td>19020.000000</td>\n",
       "      <td>19020.000000</td>\n",
       "      <td>19020.000000</td>\n",
       "      <td>19020.000000</td>\n",
       "      <td>...</td>\n",
       "      <td>19020.000000</td>\n",
       "      <td>19020.000000</td>\n",
       "      <td>19020.000000</td>\n",
       "      <td>19020.000000</td>\n",
       "      <td>19020.000000</td>\n",
       "      <td>19020.000000</td>\n",
       "      <td>19020.000000</td>\n",
       "      <td>19020.000000</td>\n",
       "      <td>19020.000000</td>\n",
       "      <td>19020.000000</td>\n",
       "    </tr>\n",
       "    <tr>\n",
       "      <th>mean</th>\n",
       "      <td>0.248394</td>\n",
       "      <td>0.406721</td>\n",
       "      <td>0.502763</td>\n",
       "      <td>0.513675</td>\n",
       "      <td>0.416937</td>\n",
       "      <td>0.416543</td>\n",
       "      <td>0.015418</td>\n",
       "      <td>0.016200</td>\n",
       "      <td>0.019479</td>\n",
       "      <td>0.523835</td>\n",
       "      <td>...</td>\n",
       "      <td>0.485257</td>\n",
       "      <td>0.484251</td>\n",
       "      <td>0.166083</td>\n",
       "      <td>0.163762</td>\n",
       "      <td>0.157804</td>\n",
       "      <td>0.154634</td>\n",
       "      <td>0.159674</td>\n",
       "      <td>0.164950</td>\n",
       "      <td>0.540580</td>\n",
       "      <td>0.464935</td>\n",
       "    </tr>\n",
       "    <tr>\n",
       "      <th>std</th>\n",
       "      <td>0.127284</td>\n",
       "      <td>0.151316</td>\n",
       "      <td>0.127366</td>\n",
       "      <td>0.134083</td>\n",
       "      <td>0.117867</td>\n",
       "      <td>0.149799</td>\n",
       "      <td>0.041387</td>\n",
       "      <td>0.035136</td>\n",
       "      <td>0.048070</td>\n",
       "      <td>0.187968</td>\n",
       "      <td>...</td>\n",
       "      <td>0.242684</td>\n",
       "      <td>0.243167</td>\n",
       "      <td>0.196820</td>\n",
       "      <td>0.199388</td>\n",
       "      <td>0.186776</td>\n",
       "      <td>0.181154</td>\n",
       "      <td>0.190990</td>\n",
       "      <td>0.202804</td>\n",
       "      <td>0.171852</td>\n",
       "      <td>0.153105</td>\n",
       "    </tr>\n",
       "    <tr>\n",
       "      <th>min</th>\n",
       "      <td>0.000000</td>\n",
       "      <td>0.000000</td>\n",
       "      <td>0.000000</td>\n",
       "      <td>0.000000</td>\n",
       "      <td>0.000000</td>\n",
       "      <td>0.000000</td>\n",
       "      <td>0.000000</td>\n",
       "      <td>0.000000</td>\n",
       "      <td>0.000000</td>\n",
       "      <td>0.000000</td>\n",
       "      <td>...</td>\n",
       "      <td>0.000000</td>\n",
       "      <td>0.000000</td>\n",
       "      <td>0.000000</td>\n",
       "      <td>0.000000</td>\n",
       "      <td>0.000000</td>\n",
       "      <td>0.000000</td>\n",
       "      <td>0.000000</td>\n",
       "      <td>0.000000</td>\n",
       "      <td>0.000000</td>\n",
       "      <td>0.000000</td>\n",
       "    </tr>\n",
       "    <tr>\n",
       "      <th>25%</th>\n",
       "      <td>0.135135</td>\n",
       "      <td>0.304348</td>\n",
       "      <td>0.416667</td>\n",
       "      <td>0.411765</td>\n",
       "      <td>0.333333</td>\n",
       "      <td>0.311111</td>\n",
       "      <td>0.002561</td>\n",
       "      <td>0.001786</td>\n",
       "      <td>0.002093</td>\n",
       "      <td>0.455696</td>\n",
       "      <td>...</td>\n",
       "      <td>0.250000</td>\n",
       "      <td>0.244186</td>\n",
       "      <td>0.088372</td>\n",
       "      <td>0.068182</td>\n",
       "      <td>0.066667</td>\n",
       "      <td>0.065934</td>\n",
       "      <td>0.067416</td>\n",
       "      <td>0.068182</td>\n",
       "      <td>0.449331</td>\n",
       "      <td>0.357143</td>\n",
       "    </tr>\n",
       "    <tr>\n",
       "      <th>50%</th>\n",
       "      <td>0.243243</td>\n",
       "      <td>0.413043</td>\n",
       "      <td>0.500000</td>\n",
       "      <td>0.509804</td>\n",
       "      <td>0.416667</td>\n",
       "      <td>0.422222</td>\n",
       "      <td>0.005121</td>\n",
       "      <td>0.005357</td>\n",
       "      <td>0.004924</td>\n",
       "      <td>0.559494</td>\n",
       "      <td>...</td>\n",
       "      <td>0.568182</td>\n",
       "      <td>0.558140</td>\n",
       "      <td>0.100000</td>\n",
       "      <td>0.102273</td>\n",
       "      <td>0.100000</td>\n",
       "      <td>0.098901</td>\n",
       "      <td>0.101124</td>\n",
       "      <td>0.102273</td>\n",
       "      <td>0.560229</td>\n",
       "      <td>0.466165</td>\n",
       "    </tr>\n",
       "    <tr>\n",
       "      <th>75%</th>\n",
       "      <td>0.351351</td>\n",
       "      <td>0.500000</td>\n",
       "      <td>0.583333</td>\n",
       "      <td>0.607843</td>\n",
       "      <td>0.500000</td>\n",
       "      <td>0.511111</td>\n",
       "      <td>0.010782</td>\n",
       "      <td>0.014286</td>\n",
       "      <td>0.013786</td>\n",
       "      <td>0.645570</td>\n",
       "      <td>...</td>\n",
       "      <td>0.681818</td>\n",
       "      <td>0.686047</td>\n",
       "      <td>0.113953</td>\n",
       "      <td>0.136364</td>\n",
       "      <td>0.133333</td>\n",
       "      <td>0.131868</td>\n",
       "      <td>0.134831</td>\n",
       "      <td>0.136364</td>\n",
       "      <td>0.658381</td>\n",
       "      <td>0.571429</td>\n",
       "    </tr>\n",
       "    <tr>\n",
       "      <th>max</th>\n",
       "      <td>1.000000</td>\n",
       "      <td>1.000000</td>\n",
       "      <td>1.000000</td>\n",
       "      <td>1.000000</td>\n",
       "      <td>1.000000</td>\n",
       "      <td>1.000000</td>\n",
       "      <td>1.000000</td>\n",
       "      <td>1.000000</td>\n",
       "      <td>1.000000</td>\n",
       "      <td>1.000000</td>\n",
       "      <td>...</td>\n",
       "      <td>1.000000</td>\n",
       "      <td>1.000000</td>\n",
       "      <td>1.000000</td>\n",
       "      <td>1.000000</td>\n",
       "      <td>1.000000</td>\n",
       "      <td>1.000000</td>\n",
       "      <td>1.000000</td>\n",
       "      <td>1.000000</td>\n",
       "      <td>1.000000</td>\n",
       "      <td>1.000000</td>\n",
       "    </tr>\n",
       "  </tbody>\n",
       "</table>\n",
       "<p>8 rows × 52 columns</p>\n",
       "</div>"
      ],
      "text/plain": [
       "                Age           OVA           POT        Height        Weight  \\\n",
       "count  19020.000000  19020.000000  19020.000000  19020.000000  19020.000000   \n",
       "mean       0.248394      0.406721      0.502763      0.513675      0.416937   \n",
       "std        0.127284      0.151316      0.127366      0.134083      0.117867   \n",
       "min        0.000000      0.000000      0.000000      0.000000      0.000000   \n",
       "25%        0.135135      0.304348      0.416667      0.411765      0.333333   \n",
       "50%        0.243243      0.413043      0.500000      0.509804      0.416667   \n",
       "75%        0.351351      0.500000      0.583333      0.607843      0.500000   \n",
       "max        1.000000      1.000000      1.000000      1.000000      1.000000   \n",
       "\n",
       "                BOV         Value          Wage  Release Clause     Attacking  \\\n",
       "count  19020.000000  19020.000000  19020.000000    19020.000000  19020.000000   \n",
       "mean       0.416543      0.015418      0.016200        0.019479      0.523835   \n",
       "std        0.149799      0.041387      0.035136        0.048070      0.187968   \n",
       "min        0.000000      0.000000      0.000000        0.000000      0.000000   \n",
       "25%        0.311111      0.002561      0.001786        0.002093      0.455696   \n",
       "50%        0.422222      0.005121      0.005357        0.004924      0.559494   \n",
       "75%        0.511111      0.010782      0.014286        0.013786      0.645570   \n",
       "max        1.000000      1.000000      1.000000        1.000000      1.000000   \n",
       "\n",
       "       ...  Standing Tackle  Sliding Tackle   Goalkeeping     GK Diving  \\\n",
       "count  ...     19020.000000    19020.000000  19020.000000  19020.000000   \n",
       "mean   ...         0.485257        0.484251      0.166083      0.163762   \n",
       "std    ...         0.242684        0.243167      0.196820      0.199388   \n",
       "min    ...         0.000000        0.000000      0.000000      0.000000   \n",
       "25%    ...         0.250000        0.244186      0.088372      0.068182   \n",
       "50%    ...         0.568182        0.558140      0.100000      0.102273   \n",
       "75%    ...         0.681818        0.686047      0.113953      0.136364   \n",
       "max    ...         1.000000        1.000000      1.000000      1.000000   \n",
       "\n",
       "        GK Handling    GK Kicking  GK Positioning   GK Reflexes   Total Stats  \\\n",
       "count  19020.000000  19020.000000    19020.000000  19020.000000  19020.000000   \n",
       "mean       0.157804      0.154634        0.159674      0.164950      0.540580   \n",
       "std        0.186776      0.181154        0.190990      0.202804      0.171852   \n",
       "min        0.000000      0.000000        0.000000      0.000000      0.000000   \n",
       "25%        0.066667      0.065934        0.067416      0.068182      0.449331   \n",
       "50%        0.100000      0.098901        0.101124      0.102273      0.560229   \n",
       "75%        0.133333      0.131868        0.134831      0.136364      0.658381   \n",
       "max        1.000000      1.000000        1.000000      1.000000      1.000000   \n",
       "\n",
       "         Base Stats  \n",
       "count  19020.000000  \n",
       "mean       0.464935  \n",
       "std        0.153105  \n",
       "min        0.000000  \n",
       "25%        0.357143  \n",
       "50%        0.466165  \n",
       "75%        0.571429  \n",
       "max        1.000000  \n",
       "\n",
       "[8 rows x 52 columns]"
      ]
     },
     "execution_count": 48,
     "metadata": {},
     "output_type": "execute_result"
    }
   ],
   "source": [
    "train_df[numeric_columns].describe()"
   ]
  },
  {
   "cell_type": "markdown",
   "id": "7f8935dd",
   "metadata": {},
   "source": [
    "### Encode Categorical Columns"
   ]
  },
  {
   "cell_type": "code",
   "execution_count": 49,
   "id": "d43d3eee",
   "metadata": {},
   "outputs": [],
   "source": [
    "categorical_columns = train_df.select_dtypes(include=['object']).columns\n",
    "\n",
    "encoder = OneHotEncoder()\n",
    "\n",
    "encoded_data = encoder.fit_transform(train_df[categorical_columns])"
   ]
  },
  {
   "cell_type": "code",
   "execution_count": 50,
   "id": "6c4e3c89",
   "metadata": {},
   "outputs": [
    {
     "data": {
      "text/plain": [
       "array([[0., 0., 0., ..., 0., 0., 0.],\n",
       "       [0., 0., 0., ..., 0., 0., 0.],\n",
       "       [0., 0., 0., ..., 0., 0., 0.],\n",
       "       ...,\n",
       "       [0., 0., 0., ..., 0., 0., 0.],\n",
       "       [0., 0., 0., ..., 0., 0., 0.],\n",
       "       [0., 0., 0., ..., 0., 0., 0.]])"
      ]
     },
     "execution_count": 50,
     "metadata": {},
     "output_type": "execute_result"
    }
   ],
   "source": [
    "encoded_data.toarray()"
   ]
  },
  {
   "cell_type": "code",
   "execution_count": 51,
   "id": "0225d418",
   "metadata": {},
   "outputs": [],
   "source": [
    "encoded_cols = list(encoder.get_feature_names_out(categorical_columns))"
   ]
  },
  {
   "cell_type": "code",
   "execution_count": 52,
   "id": "5fb54fdd",
   "metadata": {},
   "outputs": [
    {
     "name": "stderr",
     "output_type": "stream",
     "text": [
      "\n",
      "KeyboardInterrupt\n",
      "\n"
     ]
    }
   ],
   "source": [
    "train_df[encoded_cols] = encoded_data.toarray()"
   ]
  }
 ],
 "metadata": {
  "kernelspec": {
   "display_name": "Python 3 (ipykernel)",
   "language": "python",
   "name": "python3"
  },
  "language_info": {
   "codemirror_mode": {
    "name": "ipython",
    "version": 3
   },
   "file_extension": ".py",
   "mimetype": "text/x-python",
   "name": "python",
   "nbconvert_exporter": "python",
   "pygments_lexer": "ipython3",
   "version": "3.10.6"
  }
 },
 "nbformat": 4,
 "nbformat_minor": 5
}
