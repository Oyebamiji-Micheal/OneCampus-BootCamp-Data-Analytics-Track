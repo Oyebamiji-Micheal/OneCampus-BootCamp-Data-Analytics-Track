{
 "cells": [
  {
   "cell_type": "markdown",
   "id": "c8387aff",
   "metadata": {},
   "source": [
    "# Python Academy Project"
   ]
  },
  {
   "cell_type": "markdown",
   "id": "57ef3474",
   "metadata": {},
   "source": [
    "### Project Description"
   ]
  },
  {
   "cell_type": "markdown",
   "id": "1c5155d4",
   "metadata": {},
   "source": [
    "> In summary, develop a PYTHON-ONLY application that can be used to convert Bootcamp times from EST to any of the time zones requested by a student. The app should be able to convert the given date and time (Day and Time) to the requested time zone day and time."
   ]
  },
  {
   "cell_type": "markdown",
   "id": "e2cb9452",
   "metadata": {},
   "source": [
    "### Project Constraints"
   ]
  },
  {
   "cell_type": "markdown",
   "id": "125db56a",
   "metadata": {},
   "source": [
    ">- Should be a Python-only application\n",
    ">- The app should use python containers only e.g. lists, tuple, dictionary etc.\n",
    ">- The app must not have any database implemented and should not read from nor save to any file on disk.\n",
    ">- Email script is not necessary"
   ]
  },
  {
   "cell_type": "markdown",
   "id": "24b398b0",
   "metadata": {},
   "source": [
    "### Application Specifications"
   ]
  },
  {
   "cell_type": "markdown",
   "id": "5df97994",
   "metadata": {},
   "source": [
    ">- App should hold information about the times in countries of the world.\n",
    ">- App should be able to tell the current time in any country specified by the user by simply reading the current system time and time zone.\n",
    ">- When provided the name of a country and time zone, the app should be able to provide the equivalent time in any specified target country and display its time zone.\n",
    ">- App should be able to generate the Bootcamp schedule in the time/timezone of any specified target country.\n",
    ">- As a bonus, the app should be able to read the current system time and alert the user if any upcoming Bootcamp is less than 24 hours from the current system time."
   ]
  },
  {
   "cell_type": "markdown",
   "id": "4ab61595",
   "metadata": {},
   "source": [
    "### Edge Cases"
   ]
  },
  {
   "cell_type": "markdown",
   "id": "60eee86f",
   "metadata": {},
   "source": [
    "> One edge case I observed while trying to convert the time is that a program date might not be the same as the user's. I.e. after converting the time of a program to the user's local time, the hours might be greater than 23 or less than 0. To 'catch' this edge case, Python's inbuilt function, 'timedelta', is used to format the hours correctly by either adding to or decreasing the day/month."
   ]
  },
  {
   "cell_type": "markdown",
   "id": "0dd905b3",
   "metadata": {},
   "source": [
    "# Application"
   ]
  },
  {
   "cell_type": "markdown",
   "id": "87a3a980",
   "metadata": {},
   "source": [
    "### Input format"
   ]
  },
  {
   "cell_type": "markdown",
   "id": "5852b9e2",
   "metadata": {},
   "source": [
    "**Note: This section is assumed to be what will be displayed to the user immediately they run this app. Instead of using multiple lines of print statement inside of python's input function as a guide for the user, the following is displayed (using print statement) before users are asked to enter inputs.** "
   ]
  },
  {
   "cell_type": "markdown",
   "id": "19bdaf5a",
   "metadata": {},
   "source": [
    "Please adhere to the following input format. Spaces, numbers and titlecase letters should be entered as displayed below\n",
    ">- cohort format: Type either 'Cohort 14' or 'Cohort 15'  \n",
    ">- program format: 'Data Analytics', 'Data Science/ML', 'Data Science/ML'  \n",
    ">- program month: Use numbers only. For example, 0 corresponds to January, 2 to February and so on\n",
    ">- program date: Any number entered should be in the range 0 to 31 and be valid for corresponding month \n",
    ">- program time: Type either '6' or '10'. This corresponds to 6AM and 10AM respectively."
   ]
  },
  {
   "cell_type": "markdown",
   "id": "71cee77f",
   "metadata": {},
   "source": [
    "### Implementation"
   ]
  },
  {
   "cell_type": "code",
   "execution_count": 7,
   "id": "fa75fa83",
   "metadata": {},
   "outputs": [],
   "source": [
    "bootcamp_months = ['July', 'July', 'July', 'July', 'July', 'July', \n",
    "                   'July', 'July', 'August', 'August', 'August', \n",
    "                   'August', 'August', 'August', 'August','August', \n",
    "                   'September', 'September', 'September', 'September',\n",
    "                   'September', 'September', 'September', 'September', \n",
    "                   'September', 'September', 'September', 'September']"
   ]
  },
  {
   "cell_type": "code",
   "execution_count": 8,
   "id": "762882a3",
   "metadata": {},
   "outputs": [],
   "source": [
    "bootcamp_dates = ['2022-07-07', '2022-07-08', '2022-07-07', '2022-07-08', \n",
    "                 '2022-07-21', '2022-07-21', '2022-07-22', '2022-07-22', \n",
    "                 '2022-08-04', '2022-08-04', '2022-08-05', '2022-08-05', \n",
    "                 '2022-08-18', '2022-08-18', '2022-08-19', '2022-08-19', \n",
    "                 '2022-09-01', '2022-09-01', '2022-09-02', '2022-09-02', \n",
    "                 '2022-09-15', '2022-09-15', '2022-09-16', '2022-09-16', \n",
    "                 '2022-09-29', '2022-09-29', '2022-09-30', '2022-09-30']"
   ]
  },
  {
   "cell_type": "code",
   "execution_count": 9,
   "id": "4f5deedd",
   "metadata": {},
   "outputs": [],
   "source": [
    "bootcamp_times = ['6.00 AM', '10.00 AM', '6.00 AM', '10.00 AM', '6.00 AM', \n",
    "                 '10.00 AM', '6.00 AM', '10.00 AM', '6.00 AM', '10.00 AM', \n",
    "                 '6.00 AM', '10.00 AM', '6.00 AM', '10.00 AM', '6.00 AM', \n",
    "                 '10.00 AM', '6.00 AM', '10.00 AM', '6.00 AM', '10.00 AM', \n",
    "                 '6.00 AM', '10.00 AM', '6.00 AM', '10.00 AM', '6.00 AM', \n",
    "                 '10.00 AM', '6.00 AM', '10.00 AM']\n"
   ]
  },
  {
   "cell_type": "code",
   "execution_count": 10,
   "id": "c80a1e4d",
   "metadata": {},
   "outputs": [],
   "source": [
    "bootcamp_cohorts = ['Cohort 14', 'Cohort 15', 'Cohort 14', 'Cohort 15', 'Cohort 14', \n",
    "                   'Cohort 15', 'Cohort 14', 'Cohort 15', 'Cohort 14', 'Cohort 15', \n",
    "                   'Cohort 14', 'Cohort 15', 'Cohort 14', 'Cohort 15', 'Cohort 14', \n",
    "                   'Cohort 15', 'Cohort 14', 'Cohort 15', 'Cohort 14', 'Cohort 15', \n",
    "                   'Cohort 14', 'Cohort 15', 'Cohort 14', 'Cohort 15', 'Cohort 14', \n",
    "                   'Cohort 15', 'Cohort 14', 'Cohort 15']\n"
   ]
  },
  {
   "cell_type": "code",
   "execution_count": 11,
   "id": "568af6e3",
   "metadata": {},
   "outputs": [],
   "source": [
    "bootcamp_programs = ['Data Analytics', 'Data Science/ML', 'Data Science/ML', 'Data Analytics', \n",
    "                    'Data Analytics', 'Data Science/ML', 'Data Science/ML', 'Data Analytics', \n",
    "                    'Data Analytics', 'Data Science/ML', 'Data Science/ML', 'Data Analytics', \n",
    "                    'Data Analytics', 'Data Science/ML', 'Data Science/ML', 'Data Analytics', \n",
    "                    'Data Analytics', 'Data Science/ML', 'Data Science/ML', 'Data Analytics', \n",
    "                    'Data Analytics', 'Data Science/ML', 'Data Science/ML', 'Data Analytics', \n",
    "                    'Data Analytics', 'Data Science/ML', 'Data Science/ML', 'Data Analytics'] "
   ]
  },
  {
   "cell_type": "code",
   "execution_count": 12,
   "id": "86b50fad",
   "metadata": {},
   "outputs": [],
   "source": [
    "bootcamp_topics = ['Python Variables', 'Data Cleaning', 'Python Variables', \n",
    "                   'Data Visualization Project 1', 'Python Container', 'Data Transformation', \n",
    "                   'Python Container', 'Data Visualization Project 2', 'Python Container II', \n",
    "                   'Data Transformation II', 'Python Container II', 'Data Visualization Project 3', \n",
    "                   'Python Functions', 'Feature Selection', 'Python Functions', \n",
    "                   'Data Visualization Project 4', 'Python Functions', 'Feature Selection II', \n",
    "                   'Python Functions II', 'Data Visualization Project 5', 'Python Pandas I', \n",
    "                   'Supervised Learning Intro', 'Python Pandas I', 'Data Visualization Project 6', \n",
    "                   'Python Pandas II', 'Unsupervised Learning Intro', 'Python Pandas II', 'Data Visualization Project 7']"
   ]
  },
  {
   "cell_type": "code",
   "execution_count": 13,
   "id": "92a6cf48",
   "metadata": {},
   "outputs": [],
   "source": [
    "assert (len(bootcamp_months) == len(bootcamp_dates) \n",
    "        == len(bootcamp_times) == len(bootcamp_cohorts) \n",
    "        == len(bootcamp_programs) == len(bootcamp_topics))"
   ]
  },
  {
   "cell_type": "code",
   "execution_count": 14,
   "id": "30a99355",
   "metadata": {},
   "outputs": [
    {
     "name": "stdout",
     "output_type": "stream",
     "text": [
      "Specify cohort: Cohort 15\n",
      "Specify program: Data Analytics\n",
      "Enter program month: 7\n",
      "Enter program date: 21\n",
      "Enter program time: 6\n"
     ]
    }
   ],
   "source": [
    "cohort = input('Specify cohort: ')\n",
    "program = input('Specify program: ')\n",
    "program_month = int(input('Enter program month: '))\n",
    "program_date = int(input('Enter program date: '))\n",
    "program_time = int(input('Enter program time: '))"
   ]
  },
  {
   "cell_type": "code",
   "execution_count": 32,
   "id": "351c6b1d",
   "metadata": {},
   "outputs": [],
   "source": [
    "from datetime import datetime\n",
    "from datetime import timedelta"
   ]
  },
  {
   "cell_type": "code",
   "execution_count": 33,
   "id": "98ea8f7f",
   "metadata": {},
   "outputs": [],
   "source": [
    "def convert_time(program_month, program_date, program_time):\n",
    "    \"\"\"This function converts specified bootcamp time to \n",
    "    the user's local time.\n",
    "    \"\"\"\n",
    "    \n",
    "    program_time += 5 # convert program time to UTC equivalent\n",
    "    \n",
    "    # calculate user's time offset from UTC in hours and minutes\n",
    "    offset = (datetime.now() - datetime.utcnow()).total_seconds()\n",
    "    offset_hours = int(offset / 3600) \n",
    "    offset_minutes = int(((offset / 3600) - offset_hours) * 60)\n",
    "    \n",
    "    # calculate and return bootcamp time in user's local time\n",
    "    user = timedelta(hours=offset_hours, minutes=offset_minutes)\n",
    "    program = datetime(2022, program_month, program_date, program_time, 0) \n",
    "    \n",
    "    return user + program"
   ]
  },
  {
   "cell_type": "code",
   "execution_count": 34,
   "id": "3dfe4bc7",
   "metadata": {},
   "outputs": [],
   "source": [
    "def bootcamp_datetime(index):\n",
    "    \"\"\"This function converts bootcamp time \n",
    "    to a user's local time in datetime format.\n",
    "    \"\"\"\n",
    "    \n",
    "    temp = bootcamp_dates[index].split('-')\n",
    "    temp_month = int(temp[1].strip('0'))\n",
    "    \n",
    "    if temp[2][-1] != '0':\n",
    "        temp_day = int(temp[2].strip('0'))\n",
    "    else:\n",
    "        temp_day = int(temp[2])\n",
    "        \n",
    "    temp_time = int(bootcamp_times[index].split('.')[0]) \n",
    "    \n",
    "    return convert_time(temp_month, temp_day, temp_time)"
   ]
  },
  {
   "cell_type": "code",
   "execution_count": 38,
   "id": "c281c6f0",
   "metadata": {},
   "outputs": [],
   "source": [
    "def check(prog, cohort):\n",
    "    \"\"\"Check if a user has a schedule in less than 24 hours\"\"\"\n",
    "    \n",
    "    min_time = float('inf')\n",
    "    for index in range(len(bootcamp_programs)):\n",
    "        \n",
    "        temp_bootcamp_datetime = bootcamp_datetime(index)\n",
    "        temp_datetime_diff = temp_bootcamp_datetime - datetime.now()\n",
    "        duration_days = temp_datetime_diff.total_seconds()\n",
    "        hours = divmod(duration_days, 3600)[0]\n",
    "        \n",
    "        if hours < min_time and hours > 0:\n",
    "            min_time = hours\n",
    "            \n",
    "        user_month = datetime.now().month\n",
    "        user_day = datetime.now().day\n",
    "        bootcamp_month = temp_bootcamp_datetime.month\n",
    "        bootcamp_day = temp_bootcamp_datetime.day\n",
    "        \n",
    "        if (user_month == bootcamp_month and user_day == bootcamp_day \n",
    "            and bootcamp_cohorts[index] == cohort() and bootcamp_programs[index] == prog\n",
    "            and hours < 60 and hours > 0):\n",
    "            return f'You have an upcoming program in {int(hours)} hours'\n",
    "    \n",
    "    return f'Your next program is in {int(min_time)} hours'"
   ]
  },
  {
   "cell_type": "code",
   "execution_count": 39,
   "id": "ae4eaa8f",
   "metadata": {},
   "outputs": [
    {
     "name": "stdout",
     "output_type": "stream",
     "text": [
      "2022-07-21 06:00:00 (EST) is equivalent to 2022-07-21 12:00:00 in your local time\n"
     ]
    }
   ],
   "source": [
    "time_equivalent = convert_time(program_month, program_date, program_time)\n",
    "print(f'{datetime(2022, program_month, program_date, program_time)} (EST) is equivalent to {time_equivalent} in your local time')"
   ]
  },
  {
   "cell_type": "code",
   "execution_count": 40,
   "id": "4b3cd0f5",
   "metadata": {},
   "outputs": [
    {
     "data": {
      "text/plain": [
       "'Your next program is in 55 hours'"
      ]
     },
     "execution_count": 40,
     "metadata": {},
     "output_type": "execute_result"
    }
   ],
   "source": [
    "check(program, cohort)"
   ]
  },
  {
   "cell_type": "code",
   "execution_count": 42,
   "id": "77dce478",
   "metadata": {},
   "outputs": [
    {
     "name": "stdout",
     "output_type": "stream",
     "text": [
      "Thank You!\n"
     ]
    }
   ],
   "source": [
    "print('Thank You!')"
   ]
  },
  {
   "cell_type": "markdown",
   "id": "7c24a207",
   "metadata": {},
   "source": [
    "### References"
   ]
  },
  {
   "cell_type": "markdown",
   "id": "5b141367",
   "metadata": {},
   "source": [
    ">- Datetime documentation: https://docs.python.org/3/library/datetime.html \n",
    ">- How to obtain time zone of a system: https://stackoverflow.com/questions/1111056/get-time-zone-information-of-the-system-in-python\n",
    ">- How to format date over 24 hours: https://stackoverflow.com/questions/50422329/datetime-format-over-24-hours\n",
    ">- How to get month equivalent of a number: https://stackoverflow.com/questions/6557553/get-month-name-from-number\n",
    ">- Find time difference between two datetime objects in python: https://stackoverflow.com/questions/1345827/how-do-i-find-the-time-difference-between-two-datetime-objects-in-python"
   ]
  }
 ],
 "metadata": {
  "kernelspec": {
   "display_name": "Python [conda env:root] *",
   "language": "python",
   "name": "conda-root-py"
  },
  "language_info": {
   "codemirror_mode": {
    "name": "ipython",
    "version": 3
   },
   "file_extension": ".py",
   "mimetype": "text/x-python",
   "name": "python",
   "nbconvert_exporter": "python",
   "pygments_lexer": "ipython3",
   "version": "3.7.6"
  }
 },
 "nbformat": 4,
 "nbformat_minor": 5
}
